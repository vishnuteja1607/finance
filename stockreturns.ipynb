{
 "cells": [
  {
   "cell_type": "code",
   "execution_count": 1,
   "id": "001f41cf",
   "metadata": {},
   "outputs": [],
   "source": [
    "import numpy as np\n",
    "import matplotlib.pyplot as plt\n",
    "import yfinance as yf\n",
    "import scipy.stats as stats\n",
    "import pylab\n"
   ]
  },
  {
   "cell_type": "code",
   "execution_count": 2,
   "id": "87d4ddfd",
   "metadata": {},
   "outputs": [
    {
     "name": "stdout",
     "output_type": "stream",
     "text": [
      "[*********************100%***********************]  1 of 1 completed\n"
     ]
    }
   ],
   "source": [
    "daily_prices = yf.download('SPY',start='2012-01-10',end='2022-12-11')"
   ]
  },
  {
   "cell_type": "code",
   "execution_count": 3,
   "id": "d1d5416b",
   "metadata": {},
   "outputs": [
    {
     "data": {
      "text/html": [
       "<div>\n",
       "<style scoped>\n",
       "    .dataframe tbody tr th:only-of-type {\n",
       "        vertical-align: middle;\n",
       "    }\n",
       "\n",
       "    .dataframe tbody tr th {\n",
       "        vertical-align: top;\n",
       "    }\n",
       "\n",
       "    .dataframe thead th {\n",
       "        text-align: right;\n",
       "    }\n",
       "</style>\n",
       "<table border=\"1\" class=\"dataframe\">\n",
       "  <thead>\n",
       "    <tr style=\"text-align: right;\">\n",
       "      <th></th>\n",
       "      <th>Open</th>\n",
       "      <th>High</th>\n",
       "      <th>Low</th>\n",
       "      <th>Close</th>\n",
       "      <th>Adj Close</th>\n",
       "      <th>Volume</th>\n",
       "    </tr>\n",
       "    <tr>\n",
       "      <th>Date</th>\n",
       "      <th></th>\n",
       "      <th></th>\n",
       "      <th></th>\n",
       "      <th></th>\n",
       "      <th></th>\n",
       "      <th></th>\n",
       "    </tr>\n",
       "  </thead>\n",
       "  <tbody>\n",
       "    <tr>\n",
       "      <th>2022-12-05</th>\n",
       "      <td>403.950012</td>\n",
       "      <td>404.929993</td>\n",
       "      <td>398.170013</td>\n",
       "      <td>399.589996</td>\n",
       "      <td>396.251160</td>\n",
       "      <td>77289800</td>\n",
       "    </tr>\n",
       "    <tr>\n",
       "      <th>2022-12-06</th>\n",
       "      <td>399.420013</td>\n",
       "      <td>399.989990</td>\n",
       "      <td>391.640015</td>\n",
       "      <td>393.829987</td>\n",
       "      <td>390.539276</td>\n",
       "      <td>77972200</td>\n",
       "    </tr>\n",
       "    <tr>\n",
       "      <th>2022-12-07</th>\n",
       "      <td>392.940002</td>\n",
       "      <td>395.640015</td>\n",
       "      <td>391.970001</td>\n",
       "      <td>393.160004</td>\n",
       "      <td>389.874878</td>\n",
       "      <td>65927900</td>\n",
       "    </tr>\n",
       "    <tr>\n",
       "      <th>2022-12-08</th>\n",
       "      <td>395.140015</td>\n",
       "      <td>397.359985</td>\n",
       "      <td>393.269989</td>\n",
       "      <td>396.239990</td>\n",
       "      <td>392.929138</td>\n",
       "      <td>60737900</td>\n",
       "    </tr>\n",
       "    <tr>\n",
       "      <th>2022-12-09</th>\n",
       "      <td>394.940002</td>\n",
       "      <td>397.619995</td>\n",
       "      <td>393.149994</td>\n",
       "      <td>393.279999</td>\n",
       "      <td>389.993896</td>\n",
       "      <td>81447700</td>\n",
       "    </tr>\n",
       "  </tbody>\n",
       "</table>\n",
       "</div>"
      ],
      "text/plain": [
       "                  Open        High         Low       Close   Adj Close  \\\n",
       "Date                                                                     \n",
       "2022-12-05  403.950012  404.929993  398.170013  399.589996  396.251160   \n",
       "2022-12-06  399.420013  399.989990  391.640015  393.829987  390.539276   \n",
       "2022-12-07  392.940002  395.640015  391.970001  393.160004  389.874878   \n",
       "2022-12-08  395.140015  397.359985  393.269989  396.239990  392.929138   \n",
       "2022-12-09  394.940002  397.619995  393.149994  393.279999  389.993896   \n",
       "\n",
       "              Volume  \n",
       "Date                  \n",
       "2022-12-05  77289800  \n",
       "2022-12-06  77972200  \n",
       "2022-12-07  65927900  \n",
       "2022-12-08  60737900  \n",
       "2022-12-09  81447700  "
      ]
     },
     "execution_count": 3,
     "metadata": {},
     "output_type": "execute_result"
    }
   ],
   "source": [
    "daily_prices.tail()"
   ]
  },
  {
   "cell_type": "code",
   "execution_count": 4,
   "id": "82a1c565",
   "metadata": {},
   "outputs": [
    {
     "data": {
      "text/plain": [
       "Date\n",
       "2012-01-11    0.000542\n",
       "2012-01-12    0.002399\n",
       "2012-01-13   -0.005173\n",
       "2012-01-17    0.003881\n",
       "2012-01-18    0.011056\n",
       "                ...   \n",
       "2022-12-05   -0.017989\n",
       "2022-12-06   -0.014415\n",
       "2022-12-07   -0.001701\n",
       "2022-12-08    0.007834\n",
       "2022-12-09   -0.007470\n",
       "Name: Close, Length: 2748, dtype: float64"
      ]
     },
     "execution_count": 4,
     "metadata": {},
     "output_type": "execute_result"
    }
   ],
   "source": [
    "daily_returns = daily_prices['Close'].pct_change()\n",
    "daily_returns.dropna()"
   ]
  },
  {
   "cell_type": "code",
   "execution_count": 5,
   "id": "bcd2614a",
   "metadata": {},
   "outputs": [
    {
     "name": "stdout",
     "output_type": "stream",
     "text": [
      "first 129.1300048828125 last 393.2799987792969\n"
     ]
    },
    {
     "data": {
      "image/png": "[encoded data removed]",
      "text/plain": [
       "<Figure size 432x288 with 1 Axes>"
      ]
     },
     "metadata": {
      "needs_background": "light"
     },
     "output_type": "display_data"
    }
   ],
   "source": [
    "daily_prices['Close'].plot()\n",
    "\n",
    "print(\"first\",daily_prices.Close[0],\"last\",daily_prices.Close[-1])"
   ]
  },
  {
   "cell_type": "code",
   "execution_count": 6,
   "id": "4bcdc39e",
   "metadata": {},
   "outputs": [
    {
     "name": "stdout",
     "output_type": "stream",
     "text": [
      "0.00046348353602840867\n"
     ]
    },
    {
     "data": {
      "text/plain": [
       "461.5732451801426"
      ]
     },
     "execution_count": 6,
     "metadata": {},
     "output_type": "execute_result"
    }
   ],
   "source": [
    "#simple returns mean check\n",
    "\n",
    "print(daily_returns.mean())\n",
    "r = daily_returns.mean()\n",
    "daily_prices.Close[0]*(1+daily_returns.mean())**(len(daily_returns))"
   ]
  },
  {
   "cell_type": "code",
   "execution_count": 7,
   "id": "4078c1c4",
   "metadata": {},
   "outputs": [
    {
     "data": {
      "text/plain": [
       "Date\n",
       "2012-01-11    0.000542\n",
       "2012-01-12    0.002396\n",
       "2012-01-13   -0.005187\n",
       "2012-01-17    0.003873\n",
       "2012-01-18    0.010996\n",
       "                ...   \n",
       "2022-12-05   -0.018153\n",
       "2022-12-06   -0.014520\n",
       "2022-12-07   -0.001703\n",
       "2022-12-08    0.007803\n",
       "2022-12-09   -0.007498\n",
       "Name: Close, Length: 2748, dtype: float64"
      ]
     },
     "execution_count": 7,
     "metadata": {},
     "output_type": "execute_result"
    }
   ],
   "source": [
    "log_returns = np.log(daily_prices.Close/daily_prices.Close.shift(1)).dropna()\n",
    "log_returns"
   ]
  },
  {
   "cell_type": "code",
   "execution_count": 8,
   "id": "80474f1d",
   "metadata": {},
   "outputs": [
    {
     "name": "stdout",
     "output_type": "stream",
     "text": [
      "0.00040527734228604435\n"
     ]
    },
    {
     "data": {
      "text/plain": [
       "393.27999877929534"
      ]
     },
     "execution_count": 8,
     "metadata": {},
     "output_type": "execute_result"
    }
   ],
   "source": [
    "#checking mean for log returns\n",
    "\n",
    "print(log_returns.mean())\n",
    "\n",
    "daily_prices.Close[0]*np.exp(log_returns.mean()*len(log_returns))"
   ]
  },
  {
   "cell_type": "code",
   "execution_count": 9,
   "id": "1421662e",
   "metadata": {},
   "outputs": [
    {
     "name": "stdout",
     "output_type": "stream",
     "text": [
      "-10.771355482515682 7.995790475477652\n"
     ]
    }
   ],
   "source": [
    "#log_returns.plot(kind='hist')\n",
    "\n",
    "log_returns_sorted = log_returns.tolist()\n",
    "log_returns_sorted.sort()\n",
    "worst = log_returns_sorted[0]\n",
    "best = log_returns_sorted[-1]\n",
    "\n",
    "worst_std = (worst-log_returns.mean())/log_returns.std()\n",
    "best_std = (best-log_returns.mean())/log_returns.std()\n",
    "\n",
    "print(worst_std,best_std)"
   ]
  },
  {
   "cell_type": "code",
   "execution_count": 10,
   "id": "82d59e04",
   "metadata": {},
   "outputs": [
    {
     "data": {
      "text/plain": [
       "((array([-3.47840334, -3.2331426 , -3.09742928, ...,  3.09742928,\n",
       "          3.2331426 ,  3.47840334]),\n",
       "  array([-0.11588654, -0.10056886, -0.08131252, ...,  0.06500674,\n",
       "          0.08202809,  0.08673099])),\n",
       " (0.010125383070797378, 0.00040527734228604375, 0.9369514696499543))"
      ]
     },
     "execution_count": 10,
     "metadata": {},
     "output_type": "execute_result"
    },
    {
     "data": {
      "image/png": "[encoded data removed]",
      "text/plain": [
       "<Figure size 432x288 with 1 Axes>"
      ]
     },
     "metadata": {
      "needs_background": "light"
     },
     "output_type": "display_data"
    }
   ],
   "source": [
    "stats.probplot(log_returns,dist='norm',plot=pylab)"
   ]
  },
  {
   "cell_type": "code",
   "execution_count": 11,
   "id": "7c4a3862",
   "metadata": {},
   "outputs": [
    {
     "name": "stdout",
     "output_type": "stream",
     "text": [
      "0.4828274867285747 0.0\n"
     ]
    },
    {
     "data": {
      "image/png": "[encoded data removed]",
      "text/plain": [
       "<Figure size 432x288 with 1 Axes>"
      ]
     },
     "metadata": {
      "needs_background": "light"
     },
     "output_type": "display_data"
    }
   ],
   "source": [
    "log_returns.plot(kind='box')\n",
    "ks,pv = stats.kstest(log_returns,'norm')\n",
    "print(ks,pv)"
   ]
  },
  {
   "cell_type": "code",
   "execution_count": 12,
   "id": "31cbd317",
   "metadata": {},
   "outputs": [
    {
     "name": "stdout",
     "output_type": "stream",
     "text": [
      "0.8803773522377014 9.004743931751274e-42\n"
     ]
    }
   ],
   "source": [
    "sw,p = stats.shapiro(log_returns)\n",
    "print(sw,p)"
   ]
  },
  {
   "cell_type": "code",
   "execution_count": null,
   "id": "4cb80dc3",
   "metadata": {},
   "outputs": [],
   "source": []
  }
 ],
 "metadata": {
  "kernelspec": {
   "display_name": "Python 3 (ipykernel)",
   "language": "python",
   "name": "python3"
  },
  "language_info": {
   "codemirror_mode": {
    "name": "ipython",
    "version": 3
   },
   "file_extension": ".py",
   "mimetype": "text/x-python",
   "name": "python",
   "nbconvert_exporter": "python",
   "pygments_lexer": "ipython3",
   "version": "3.9.7"
  }
 },
 "nbformat": 4,
 "nbformat_minor": 5
}
